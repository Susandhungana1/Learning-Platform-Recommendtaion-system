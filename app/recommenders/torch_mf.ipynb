{
 "cells": [
  {
   "cell_type": "markdown",
   "id": "96d27cfe",
   "metadata": {},
   "source": [
    "# Optional PyTorch Matrix Factorization (MF)\n",
    "This notebook mirrors `torch_mf.py` and lets you experiment interactively.\n",
    "If PyTorch isn't installed or not supported for your Python version, skip the demo or install CPU-only wheels."
   ]
  },
  {
   "cell_type": "code",
   "execution_count": 1,
   "id": "d69697f7",
   "metadata": {},
   "outputs": [
    {
     "name": "stdout",
     "output_type": "stream",
     "text": [
      "PyTorch 2.8.0+cpu loaded.\n"
     ]
    }
   ],
   "source": [
    "# Optional: install torch (CPU) if not present.\n",
    "# You may need to restart the kernel after installation.\n",
    "# %pip install --upgrade pip\n",
    "# %pip install torch --index-url https://download.pytorch.org/whl/cpu\n",
    "\n",
    "try:\n",
    "    import torch\n",
    "    import torch.nn as nn\n",
    "    import torch.optim as optim\n",
    "    print(f'PyTorch {torch.__version__} loaded.')\n",
    "except Exception as e:\n",
    "    torch = None\n",
    "    print('Torch import failed:', e)"
   ]
  },
  {
   "cell_type": "code",
   "execution_count": 2,
   "id": "4401c7d8",
   "metadata": {},
   "outputs": [],
   "source": [
    "from typing import List, Dict, Any\n",
    "\n",
    "if torch is not None:\n",
    "    class MF(nn.Module):\n",
    "        def __init__(self, n_users: int, n_items: int, k: int = 32):\n",
    "            super().__init__()\n",
    "            self.U = nn.Embedding(n_users, k)\n",
    "            self.V = nn.Embedding(n_items, k)\n",
    "            nn.init.normal_(self.U.weight, std=0.1)\n",
    "            nn.init.normal_(self.V.weight, std=0.1)\n",
    "\n",
    "        def forward(self, ui, ii):\n",
    "            u = self.U(ui)\n",
    "            v = self.V(ii)\n",
    "            return (u * v).sum(-1)\n",
    "\n",
    "def train_mf(events: List[Dict[str, Any]], epochs: int = 3, k: int = 32):\n",
    "    if torch is None:\n",
    "        raise RuntimeError('torch not available')\n",
    "    users = sorted({e['user_id'] for e in events})\n",
    "    items = sorted({e['item_id'] for e in events})\n",
    "    u_index = {u: i for i, u in enumerate(users)}\n",
    "    i_index = {it: i for i, it in enumerate(items)}\n",
    "    ui = torch.tensor([u_index[e['user_id']] for e in events], dtype=torch.long)\n",
    "    ii = torch.tensor([i_index[e['item_id']] for e in events], dtype=torch.long)\n",
    "    y = torch.tensor([1.0 for _ in events], dtype=torch.float32)\n",
    "    model = MF(len(users), len(items), k)  # type: ignore[name-defined]\n",
    "    opt = optim.Adam(model.parameters(), lr=1e-2)\n",
    "    loss_fn = nn.MSELoss()\n",
    "    for _ in range(epochs):\n",
    "        opt.zero_grad()\n",
    "        pred = model(ui, ii)\n",
    "        loss = loss_fn(pred, y)\n",
    "        loss.backward()\n",
    "        opt.step()\n",
    "    return u_index, i_index, model.U.weight.detach(), model.V.weight.detach()"
   ]
  },
  {
   "cell_type": "code",
   "execution_count": 3,
   "id": "e45f5e45",
   "metadata": {},
   "outputs": [
    {
     "name": "stdout",
     "output_type": "stream",
     "text": [
      "Users index: {'u1': 0, 'u2': 1}\n",
      "Items index: {'i1': 0, 'i2': 1, 'i3': 2}\n",
      "User embedding shape: torch.Size([2, 8])\n",
      "Item embedding shape: torch.Size([3, 8])\n"
     ]
    }
   ],
   "source": [
    "# Demo: train on tiny synthetic interactions (skip if torch unavailable)\n",
    "events = [\n",
    "    {'user_id': 'u1', 'item_id': 'i1'},\n",
    "    {'user_id': 'u1', 'item_id': 'i2'},\n",
    "    {'user_id': 'u2', 'item_id': 'i2'},\n",
    "    {'user_id': 'u2', 'item_id': 'i3'},\n",
    "]\n",
    "\n",
    "if torch is None:\n",
    "    print('Torch not available; skipping demo.')\n",
    "else:\n",
    "    u_idx, i_idx, U, V = train_mf(events, epochs=5, k=8)\n",
    "    print('Users index:', u_idx)\n",
    "    print('Items index:', i_idx)\n",
    "    print('User embedding shape:', U.shape)\n",
    "    print('Item embedding shape:', V.shape)"
   ]
  }
 ],
 "metadata": {
  "kernelspec": {
   "display_name": ".venv (3.13.5)",
   "language": "python",
   "name": "python3"
  },
  "language_info": {
   "codemirror_mode": {
    "name": "ipython",
    "version": 3
   },
   "file_extension": ".py",
   "mimetype": "text/x-python",
   "name": "python",
   "nbconvert_exporter": "python",
   "pygments_lexer": "ipython3",
   "version": "3.13.5"
  }
 },
 "nbformat": 4,
 "nbformat_minor": 5
}
